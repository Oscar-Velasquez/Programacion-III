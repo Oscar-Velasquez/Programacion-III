{
  "cells": [
    {
      "cell_type": "markdown",
      "metadata": {
        "id": "view-in-github",
        "colab_type": "text"
      },
      "source": [
        "<a href=\"https://colab.research.google.com/github/Oscar-Velasquez/Programacion-III/blob/main/Te_damos_la_bienvenida_a_Colaboratory.ipynb\" target=\"_parent\"><img src=\"https://colab.research.google.com/assets/colab-badge.svg\" alt=\"Open In Colab\"/></a>"
      ]
    },
    {
      "cell_type": "code",
      "source": [
        "#Celsius a kelvin usando lambda"
      ],
      "metadata": {
        "id": "YD0wqIGKNqld"
      },
      "execution_count": null,
      "outputs": []
    },
    {
      "cell_type": "code",
      "source": [
        "gradosCelsius = [27, 30, 35, 40, 45]\n",
        "gradosKelvin = lambda k: k+273.15\n",
        "k = list(map(gradosKelvin, gradosCelsius))\n",
        "print(k)"
      ],
      "metadata": {
        "colab": {
          "base_uri": "https://localhost:8080/"
        },
        "id": "yPRRixu-OO93",
        "outputId": "b23389b3-bc90-4a6a-a658-d698b69e73ec"
      },
      "execution_count": null,
      "outputs": [
        {
          "output_type": "stream",
          "name": "stdout",
          "text": [
            "[300.15, 303.15, 308.15, 313.15, 318.15]\n"
          ]
        }
      ]
    },
    {
      "cell_type": "code",
      "source": [
        "#Kelvin a Celsius usando lambda"
      ],
      "metadata": {
        "id": "zb9fghPaQYN0"
      },
      "execution_count": null,
      "outputs": []
    },
    {
      "cell_type": "code",
      "source": [
        "gradosKelvin = [300.15, 303.15, 308.15, 313.15, 318.15]\n",
        "gradosCelsius = lambda c:int(c-273.15)\n",
        "c = list(map(gradosCelsius, gradosKelvin))\n",
        "print(c)"
      ],
      "metadata": {
        "colab": {
          "base_uri": "https://localhost:8080/"
        },
        "id": "GZ-18hfcPTKw",
        "outputId": "ee19cb9b-25fe-4e58-d119-39988b89e1e0"
      },
      "execution_count": null,
      "outputs": [
        {
          "output_type": "stream",
          "name": "stdout",
          "text": [
            "[27, 30, 35, 40, 45]\n"
          ]
        }
      ]
    },
    {
      "cell_type": "code",
      "source": [
        "#Celsius a Kelvin usando usuario"
      ],
      "metadata": {
        "id": "Y3KiKHhpRn7K"
      },
      "execution_count": null,
      "outputs": []
    },
    {
      "cell_type": "code",
      "source": [
        "gradosKelvin = lambda k: k+273.15\n",
        "kelvin = int(input(\"Grados celsius: \"))\n",
        "print(gradosKelvin(kelvin))"
      ],
      "metadata": {
        "colab": {
          "base_uri": "https://localhost:8080/"
        },
        "id": "zdS0YO_lRt-U",
        "outputId": "fcd8650b-8da3-4e50-81a0-26752f4546dd"
      },
      "execution_count": null,
      "outputs": [
        {
          "output_type": "stream",
          "name": "stdout",
          "text": [
            "Grados celsius: 27\n",
            "300.15\n"
          ]
        }
      ]
    },
    {
      "cell_type": "code",
      "source": [
        "#Kelvin a Celsius usando usuario"
      ],
      "metadata": {
        "id": "7Vw0JD75P9li"
      },
      "execution_count": null,
      "outputs": []
    },
    {
      "cell_type": "code",
      "source": [
        "gradosCelsius = lambda c: c-273.15\n",
        "celsius = float(input(\"Grados kelvin: \"))\n",
        "print(gradosCelsius(celsius))"
      ],
      "metadata": {
        "colab": {
          "base_uri": "https://localhost:8080/"
        },
        "id": "nXh7ctPXQ5wa",
        "outputId": "8019cbe8-2d16-4001-ee33-d7d03c721e8c"
      },
      "execution_count": null,
      "outputs": [
        {
          "output_type": "stream",
          "name": "stdout",
          "text": [
            "Grados kelvin: 300.15\n",
            "27.0\n"
          ]
        }
      ]
    },
    {
      "cell_type": "code",
      "source": [
        "#Nota final de ciclo de una materia en particular usando lambda"
      ],
      "metadata": {
        "id": "bFcsuG8VSJPF"
      },
      "execution_count": null,
      "outputs": []
    },
    {
      "cell_type": "code",
      "source": [
        "notasProgra = [\n",
        "    [9,8,10], #C1\n",
        "    [10,6,9], #C2\n",
        "    [10,9,10] #C3\n",
        "]\n",
        "C1 = (notasProgra[0][0] + notasProgra[0][1] + notasProgra[0][2])/3\n",
        "C2 = (notasProgra[1][0] + notasProgra[1][1] + notasProgra[1][2])/3\n",
        "C3 = (notasProgra[2][0] + notasProgra[2][1] + notasProgra[2][2])/3\n",
        "NF = [C1,C2,C3]\n",
        "from functools import reduce\n",
        "NotaFinal = reduce(lambda a, b: a + b, NF)/3\n",
        "print(\"Tu Nota Final es: \", NotaFinal)"
      ],
      "metadata": {
        "colab": {
          "base_uri": "https://localhost:8080/"
        },
        "id": "FNXkiwqLQdyx",
        "outputId": "304a08ab-e910-48e3-f30a-a4c60a73f0ae"
      },
      "execution_count": null,
      "outputs": [
        {
          "output_type": "stream",
          "name": "stdout",
          "text": [
            "Tu Nota Final es:  9.0\n"
          ]
        }
      ]
    },
    {
      "cell_type": "code",
      "source": [
        "#Nota final de ciclo de una materia en particular usando usuario"
      ],
      "metadata": {
        "id": "ZIaTw0doAtYa"
      },
      "execution_count": null,
      "outputs": []
    },
    {
      "cell_type": "code",
      "source": [
        "def suma(c1, c2, c3):\n",
        "  return c1 + c2 + c3 \n",
        "c1 = float(input(\"Nota del computo 1: \"))\n",
        "c2 = float(input(\"Nota del computo 2: \"))\n",
        "c3 = float(input(\"Nota del computo 3: \"))\n",
        "\n",
        "print(\"Tu nota final de programacion III es: \", c1/3 + c2/3 + c3/3)"
      ],
      "metadata": {
        "colab": {
          "base_uri": "https://localhost:8080/"
        },
        "id": "9u9UyGjwA6lc",
        "outputId": "77bd9e6f-7601-4d11-dfd3-c20d2e90eddc"
      },
      "execution_count": null,
      "outputs": [
        {
          "output_type": "stream",
          "name": "stdout",
          "text": [
            "Nota del computo 1: 5\n",
            "Nota del computo 2: 10\n",
            "Nota del computo 3: 7\n",
            "Tu nota final de programacion III es:  7.333333333333334\n"
          ]
        }
      ]
    },
    {
      "cell_type": "code",
      "source": [
        "#EJERCICIOS EN PYTHON"
      ],
      "metadata": {
        "id": "JxWIYaQ4L3rX"
      },
      "execution_count": 1,
      "outputs": []
    },
    {
      "cell_type": "code",
      "source": [
        "#1 Calcular sobre el sueldo las deducciones por ley ISSS (3%), AFP( 6.25%), ISR(Según tabla) e imprima el total deducciones y sueldo neto. "
      ],
      "metadata": {
        "id": "5DvEOhD3MtG0"
      },
      "execution_count": 2,
      "outputs": []
    },
    {
      "cell_type": "code",
      "source": [
        "sueldo = float(input(\"Su salario es $\"))\n",
        "ISSS = sueldo * 0.003\n",
        "AFP = sueldo * 0.0625\n",
        "descuento = (ISSS + AFP)\n",
        "salario_nominal = sueldo - (ISSS + AFP)\n",
        "\n",
        "print(\"Su descuento de AFP es: $\", AFP, \"Su descuento de ISS es: $\", ISSS)\n",
        "\n",
        "if (salario_nominal <= 520.00):\n",
        "  print(\"Su salario neto es: $\", salario_nominal)\n",
        "  print(\"Libre de impuestos\")\n",
        "\n",
        "elif(salario_nominal <= 900.00):\n",
        "  tramo2 = salario_nominal * 0.10\n",
        "  salario_renta = (salario_nominal - tramo2)\n",
        "  print(\"Su impuesto a pagar es: $\", tramo2)\n",
        "  print(\"Su salario es: $\", salario_renta)\n",
        "\n",
        "elif(salario_nominal <= 2000.00):\n",
        "  tramo3 = salario_nominal * 0.20\n",
        "  salario_renta = (salario_nominal - tramo3)\n",
        "  print(\"Su impuesto a pagar es: $\", tramo3)\n",
        "  print(\"Su salario es: $\", salario_renta)\n",
        "\n",
        "elif(salario_nominal >= 2000):\n",
        "  tramo4 = salario_nominal * 0.30\n",
        "  salario_renta = (salario_nominal - tramo4)\n",
        "  print(\"Su impuesto a pagar es: $\", tramo4)\n",
        "  print(\"Su salario es: $\", salario_renta)\n",
        "\n",
        "else:\n",
        "  print(\"libre de impuestos\")"
      ],
      "metadata": {
        "colab": {
          "base_uri": "https://localhost:8080/"
        },
        "id": "X5WLGY8fM2zd",
        "outputId": "1690dbc3-159a-4a16-9907-acf469f24034"
      },
      "execution_count": 3,
      "outputs": [
        {
          "output_type": "stream",
          "name": "stdout",
          "text": [
            "Su salario es $2000\n",
            "Su descuento de AFP es: $ 125.0 Su descuento de ISS es: $ 6.0\n",
            "Su impuesto a pagar es: $ 373.8\n",
            "Su salario es: $ 1495.2\n"
          ]
        }
      ]
    },
    {
      "cell_type": "code",
      "source": [
        "#2 Calcular el valor a pagar según el número de metros consumidos de agua potable"
      ],
      "metadata": {
        "id": "XUVzndlgmk5G"
      },
      "execution_count": 4,
      "outputs": []
    },
    {
      "cell_type": "code",
      "source": [
        "#3 Desarrolle la tabla de meses acumulados a n meses. Si puede encontrar la formula matemática para evitar ciclos"
      ],
      "metadata": {
        "id": "9GiWORh9Enb1"
      },
      "execution_count": 5,
      "outputs": []
    },
    {
      "cell_type": "code",
      "source": [
        "#4 Conversores"
      ],
      "metadata": {
        "id": "3oGY3X6WIT52"
      },
      "execution_count": 6,
      "outputs": []
    },
    {
      "cell_type": "code",
      "source": [
        "#conversores\n",
        "etiquetas = [\n",
        "    0,\n",
        "    [\"Seleccione un moneda\", \"1. Dolar\", \"2. Colon SV\", \"3. Quetzal\", \"4. Lempira\", \"5. Cordoba\", \"6. Boliviano\", \"7. Yen Japones\", \"8. Euro\", \"9. Dolar canadiense\", \"10. Peso MX\"],\n",
        "    [\"Selecione un almacenamiento\", \"1. MegaByte\", \"2. Bit\", \"3. Byte\", \"4. KiloByte\", \"5. GigaByte\", \"6. KiloBit\", \"7. GigaBit\", \"8. Nibble\", \"9. TeraBit\", \"10. MegaBit\"]\n",
        "    ,[\"Seleccione una longitud\", \"1. Metro\", \"2. Kilometro\", \"3. Centimetro\", \"4. Milimetro\", \"5. Milla\", \"6. Yarda\", \"7. Pie\", \"8. Pulgada\", \"9. Milla nautica\", \"10. Micrometro\"]\n",
        "    ,[\"Seleccione una unidad de masa\", \"1. Libra\", \"2. Kilogramo\", \"3. Tonelada\", \"4. Gramo\", \"5. Miligramo\", \"6. Centigramo\", \"7. Onza\", \"8. Nanogramo\", \"9. Quilate\", \"10. Piedra\" ]\n",
        "    ,[\"Seleccione un tiempo\", \"1. Hora\", \"2. Segundos\", \"3. Años\", \"4. Meses\", \"5. Dias\", \"6. Semanas\", \"7. Minutos\", \"8. Milisegundos\", \"9. Microsegundos\", \"10. Nanosegundos\"]\n",
        "    ,[\"Seleccione un volumen\", \"1. Litro\", \"2. Mililitro\", \"3. Metro Cubico\", \"4. Galon USA\", \"5. Cuarto USA\", \"6. Pulgada Cubica\", \"7. Pie Cubico\", \"8. Galon Imperial\", \"9. Cuarto Imperial\", \"10. Onza Liquida USA\"]\n",
        "    ,[\"Seleccione una area\", \"1. Metros Cuadrados\", \"2. Tareas\", \"3. Manzanas\", \"4. Yarda Cuadrada\", \"5. Kilometro Cuadrado\", \"6. Pie Cuadrado\", \"7. Hectarea\", \"8. Acre\", \"9. Milla Cuadrada\", \"10. Pulgada Cuadrada\"]]\n",
        "\n",
        "valores = [0,\n",
        "  [0,1, 8.75, 7.73, 24.49, 35.96, 6.96, 137.56, 1.00, 1.30, 20.02],\n",
        "  [0,1, 8388608, 1048576, 1024, 0.0009765625, 8192, 0.0078125, 2097152, 0.0000076294, 8],\n",
        "  [0,1, 0.001, 100, 1000, 0.000621371, 1.09361296, 3.2808388799999997, 39.370066559999997935, 0.00053995663640604750835, 999999.69062400003895],\n",
        "  [0,1, 0.45359237, 0.0004535924, 453.59237, 4.5359237, 4.5359237, 16, 4.5359237, 2267.96185, 0.0714285714],\n",
        "  [0,1, 3600, 0.0001140771, 0.0013689254, 0.0416666667, 0.0059523808, 60, 3600000, 3600000000, 3600000000000],\n",
        "  [0,1, 1000, 0.001, 0.264172, 1.05669, 61.0237, 0.0353147, 0.219969, 0.879877, 33.814],\n",
        "  [0,1, 0.0015903307888, 0.00014196479273, 1.1959900463, 0.000001, 10.763910417,  0.0001, 0.00024710538147, 3.8610215855, 1550.0031]\n",
        "\n",
        "]\n",
        "def convertir(opcion, de, a, cantidad):\n",
        "  return valores[opcion][a] / valores[opcion][de] * cantidad\n",
        "\n",
        "print(\"** MENU **\")\n",
        "print(\"1. Monedas\")\n",
        "print(\"2. Almacenamiento\")\n",
        "print(\"3. Longitud\")\n",
        "print(\"4. Masa\")\n",
        "print(\"5. Tiempo\")\n",
        "print(\"6. Volumen\")\n",
        "print(\"7. Area\")\n",
        "opcion = int(input(\"Opcion: \"))\n",
        "\n",
        "print( etiquetas[opcion] )\n",
        "de = int(input(\"DE: \"))\n",
        "a = int(input(\"A: \"))\n",
        "cantidad = float(input(\"Cantidad: \"))\n",
        "\n",
        "print( etiquetas[opcion][de], \" en \", etiquetas[opcion][a], \" equivale a: \", convertir(opcion, de, a, cantidad) )"
      ],
      "metadata": {
        "id": "g1S3lKP39Lqp",
        "outputId": "0ebb9470-7b5c-4b63-e35a-a8193af9e7c9",
        "colab": {
          "base_uri": "https://localhost:8080/"
        }
      },
      "execution_count": 18,
      "outputs": [
        {
          "output_type": "stream",
          "name": "stdout",
          "text": [
            "** MENU **\n",
            "1. Monedas\n",
            "2. Almacenamiento\n",
            "3. Longitud\n",
            "4. Masa\n",
            "5. Tiempo\n",
            "6. Volumen\n",
            "7. Area\n",
            "Opcion: 7\n",
            "['Seleccione una area', '1. Metros Cuadrados', '2. Tareas', '3. Manzanas', '4. Yarda Cuadrada', '5. Kilometro Cuadrado', '6. Pie Cuadrado', '7. Hectarea', '8. Acre', '9. Milla Cuadrada', '10. Pulgada Cuadrada']\n",
            "DE: 2\n",
            "A: 3\n",
            "Cantidad: 16\n",
            "2. Tareas  en  3. Manzanas  equivale a:  1.4282793867016406\n"
          ]
        }
      ]
    },
    {
      "cell_type": "code",
      "source": [
        "#5 Realizar un conversor propio, donde especifique el valor de conversión"
      ],
      "metadata": {
        "id": "fDpejyGpIZn_"
      },
      "execution_count": 7,
      "outputs": []
    }
  ],
  "metadata": {
    "colab": {
      "collapsed_sections": [],
      "name": "Te damos la bienvenida a Colaboratory",
      "toc_visible": true,
      "provenance": [],
      "include_colab_link": true
    },
    "kernelspec": {
      "display_name": "Python 3",
      "name": "python3"
    }
  },
  "nbformat": 4,
  "nbformat_minor": 0
}