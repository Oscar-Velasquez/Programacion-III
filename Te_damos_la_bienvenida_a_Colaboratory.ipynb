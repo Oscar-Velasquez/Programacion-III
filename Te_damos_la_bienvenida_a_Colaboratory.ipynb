{
  "cells": [
    {
      "cell_type": "markdown",
      "metadata": {
        "id": "view-in-github",
        "colab_type": "text"
      },
      "source": [
        "<a href=\"https://colab.research.google.com/github/Oscar-Velasquez/Programacion-III/blob/main/Te_damos_la_bienvenida_a_Colaboratory.ipynb\" target=\"_parent\"><img src=\"https://colab.research.google.com/assets/colab-badge.svg\" alt=\"Open In Colab\"/></a>"
      ]
    },
    {
      "cell_type": "code",
      "source": [
        "#Celsius a kelvin usando lambda"
      ],
      "metadata": {
        "id": "YD0wqIGKNqld"
      },
      "execution_count": 4,
      "outputs": []
    },
    {
      "cell_type": "code",
      "source": [
        "gradosCelsius = [27, 30, 35, 40, 45]\n",
        "gradosKelvin = lambda k: k+273.15\n",
        "k = list(map(gradosKelvin, gradosCelsius))\n",
        "print(k)"
      ],
      "metadata": {
        "id": "yPRRixu-OO93",
        "outputId": "b23389b3-bc90-4a6a-a658-d698b69e73ec",
        "colab": {
          "base_uri": "https://localhost:8080/"
        }
      },
      "execution_count": 5,
      "outputs": [
        {
          "output_type": "stream",
          "name": "stdout",
          "text": [
            "[300.15, 303.15, 308.15, 313.15, 318.15]\n"
          ]
        }
      ]
    },
    {
      "cell_type": "code",
      "source": [
        "#Kelvin a Celsius usando lambda"
      ],
      "metadata": {
        "id": "zb9fghPaQYN0"
      },
      "execution_count": 6,
      "outputs": []
    },
    {
      "cell_type": "code",
      "source": [
        "gradosKelvin = [300.15, 303.15, 308.15, 313.15, 318.15]\n",
        "gradosCelsius = lambda c:int(c-273.15)\n",
        "c = list(map(gradosCelsius, gradosKelvin))\n",
        "print(c)"
      ],
      "metadata": {
        "id": "GZ-18hfcPTKw",
        "outputId": "ee19cb9b-25fe-4e58-d119-39988b89e1e0",
        "colab": {
          "base_uri": "https://localhost:8080/"
        }
      },
      "execution_count": 8,
      "outputs": [
        {
          "output_type": "stream",
          "name": "stdout",
          "text": [
            "[27, 30, 35, 40, 45]\n"
          ]
        }
      ]
    },
    {
      "cell_type": "code",
      "source": [
        "#Celsius a Kelvin usando usuario"
      ],
      "metadata": {
        "id": "Y3KiKHhpRn7K"
      },
      "execution_count": 9,
      "outputs": []
    },
    {
      "cell_type": "code",
      "source": [
        "gradosKelvin = lambda k: k+273.15\n",
        "kelvin = int(input(\"Grados celsius: \"))\n",
        "print(gradosKelvin(kelvin))"
      ],
      "metadata": {
        "id": "zdS0YO_lRt-U",
        "outputId": "fcd8650b-8da3-4e50-81a0-26752f4546dd",
        "colab": {
          "base_uri": "https://localhost:8080/"
        }
      },
      "execution_count": 10,
      "outputs": [
        {
          "output_type": "stream",
          "name": "stdout",
          "text": [
            "Grados celsius: 27\n",
            "300.15\n"
          ]
        }
      ]
    },
    {
      "cell_type": "code",
      "source": [
        "#Kelvin a Celsius usando usuario"
      ],
      "metadata": {
        "id": "7Vw0JD75P9li"
      },
      "execution_count": 11,
      "outputs": []
    },
    {
      "cell_type": "code",
      "source": [
        "gradosCelsius = lambda c: c-273.15\n",
        "celsius = float(input(\"Grados kelvin: \"))\n",
        "print(gradosCelsius(celsius))"
      ],
      "metadata": {
        "id": "nXh7ctPXQ5wa",
        "outputId": "8019cbe8-2d16-4001-ee33-d7d03c721e8c",
        "colab": {
          "base_uri": "https://localhost:8080/"
        }
      },
      "execution_count": 12,
      "outputs": [
        {
          "output_type": "stream",
          "name": "stdout",
          "text": [
            "Grados kelvin: 300.15\n",
            "27.0\n"
          ]
        }
      ]
    },
    {
      "cell_type": "code",
      "source": [
        "#Nota final de ciclo de una materia en particular usando lambda"
      ],
      "metadata": {
        "id": "bFcsuG8VSJPF"
      },
      "execution_count": 13,
      "outputs": []
    },
    {
      "cell_type": "code",
      "source": [
        "notasProgra = [\n",
        "    [9,8,10], #C1\n",
        "    [10,6,9], #C2\n",
        "    [10,9,10] #C3\n",
        "]\n",
        "C1 = (notasProgra[0][0] + notasProgra[0][1] + notasProgra[0][2])/3\n",
        "C2 = (notasProgra[1][0] + notasProgra[1][1] + notasProgra[1][2])/3\n",
        "C3 = (notasProgra[2][0] + notasProgra[2][1] + notasProgra[2][2])/3\n",
        "NF = [C1,C2,C3]\n",
        "from functools import reduce\n",
        "NotaFinal = reduce(lambda a, b: a + b, NF)/3\n",
        "print(\"Tu Nota Final es: \", NotaFinal)"
      ],
      "metadata": {
        "colab": {
          "base_uri": "https://localhost:8080/"
        },
        "id": "FNXkiwqLQdyx",
        "outputId": "304a08ab-e910-48e3-f30a-a4c60a73f0ae"
      },
      "execution_count": 2,
      "outputs": [
        {
          "output_type": "stream",
          "name": "stdout",
          "text": [
            "Tu Nota Final es:  9.0\n"
          ]
        }
      ]
    },
    {
      "cell_type": "code",
      "source": [
        "#Nota final de ciclo de una materia en particular usando usuario"
      ],
      "metadata": {
        "id": "ZIaTw0doAtYa"
      },
      "execution_count": 3,
      "outputs": []
    },
    {
      "cell_type": "code",
      "source": [
        "def suma(c1, c2, c3):\n",
        "  return c1 + c2 + c3 \n",
        "c1 = float(input(\"Nota del computo 1: \"))\n",
        "c2 = float(input(\"Nota del computo 2: \"))\n",
        "c3 = float(input(\"Nota del computo 3: \"))\n",
        "\n",
        "print(\"Tu nota final de programacion III es: \", c1/3 + c2/3 + c3/3)"
      ],
      "metadata": {
        "id": "9u9UyGjwA6lc",
        "outputId": "77bd9e6f-7601-4d11-dfd3-c20d2e90eddc",
        "colab": {
          "base_uri": "https://localhost:8080/"
        }
      },
      "execution_count": 46,
      "outputs": [
        {
          "output_type": "stream",
          "name": "stdout",
          "text": [
            "Nota del computo 1: 5\n",
            "Nota del computo 2: 10\n",
            "Nota del computo 3: 7\n",
            "Tu nota final de programacion III es:  7.333333333333334\n"
          ]
        }
      ]
    },
    {
      "cell_type": "code",
      "source": [
        "#EJERCICIOS EN PYTHON"
      ],
      "metadata": {
        "id": "JxWIYaQ4L3rX"
      },
      "execution_count": 44,
      "outputs": []
    },
    {
      "cell_type": "code",
      "source": [
        "#Calcular sobre el sueldo las deducciones por ley ISSS (3%), AFP( 6.25%), ISR(Según tabla) e imprima el total deducciones y sueldo neto. (20%)"
      ],
      "metadata": {
        "id": "5DvEOhD3MtG0"
      },
      "execution_count": 45,
      "outputs": []
    },
    {
      "cell_type": "code",
      "source": [],
      "metadata": {
        "id": "X5WLGY8fM2zd"
      },
      "execution_count": null,
      "outputs": []
    }
  ],
  "metadata": {
    "colab": {
      "collapsed_sections": [],
      "name": "Te damos la bienvenida a Colaboratory",
      "toc_visible": true,
      "provenance": [],
      "include_colab_link": true
    },
    "kernelspec": {
      "display_name": "Python 3",
      "name": "python3"
    }
  },
  "nbformat": 4,
  "nbformat_minor": 0
}