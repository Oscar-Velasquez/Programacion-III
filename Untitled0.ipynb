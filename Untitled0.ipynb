{
  "nbformat": 4,
  "nbformat_minor": 0,
  "metadata": {
    "colab": {
      "provenance": [],
      "authorship_tag": "ABX9TyOTgXtXaRTlnz2+AtHxY5Lk",
      "include_colab_link": true
    },
    "kernelspec": {
      "name": "python3",
      "display_name": "Python 3"
    },
    "language_info": {
      "name": "python"
    }
  },
  "cells": [
    {
      "cell_type": "markdown",
      "metadata": {
        "id": "view-in-github",
        "colab_type": "text"
      },
      "source": [
        "<a href=\"https://colab.research.google.com/github/Oscar-Velasquez/Programacion-III/blob/main/Untitled0.ipynb\" target=\"_parent\"><img src=\"https://colab.research.google.com/assets/colab-badge.svg\" alt=\"Open In Colab\"/></a>"
      ]
    },
    {
      "cell_type": "code",
      "execution_count": 2,
      "metadata": {
        "id": "YeKyhTkI58dE"
      },
      "outputs": [],
      "source": [
        "import pandas as pd\n",
        "import matplotlib.pyplot as plt\n"
      ]
    },
    {
      "cell_type": "code",
      "source": [
        "notas = pd.read_csv(\"/content/Program.csv\", sep= \";\")\n",
        "print(notas,)"
      ],
      "metadata": {
        "colab": {
          "base_uri": "https://localhost:8080/"
        },
        "id": "TeoIYwTX7I8Q",
        "outputId": "fee2efa8-7b21-4b37-b4ae-cf915c91aa57"
      },
      "execution_count": 12,
      "outputs": [
        {
          "output_type": "stream",
          "name": "stdout",
          "text": [
            "  alumnos  notas\n",
            "0   oscar      9\n",
            "1    luis      4\n",
            "2  samuel      5\n",
            "3  milena      6\n",
            "4   julio      7\n",
            "5    esau      8\n",
            "6   cheyo      1\n",
            "7    yami      9\n"
          ]
        }
      ]
    },
    {
      "cell_type": "code",
      "source": [
        "sobresalientes = notas.loc[notas[\"notas\"]>=8]\n",
        "print(sobresalientes)\n",
        "\n",
        "sobresalientes.to_csv(\"/content/sobresalientes.csv\", sep= \";\")"
      ],
      "metadata": {
        "colab": {
          "base_uri": "https://localhost:8080/"
        },
        "id": "dsnuq38E8iyQ",
        "outputId": "30d9fd2d-38d8-480b-ea69-1f7dfd202a93"
      },
      "execution_count": 29,
      "outputs": [
        {
          "output_type": "stream",
          "name": "stdout",
          "text": [
            "  alumnos  notas\n",
            "0   oscar      9\n",
            "5    esau      8\n",
            "7    yami      9\n"
          ]
        }
      ]
    },
    {
      "cell_type": "code",
      "source": [
        "reprobados = notas.loc[notas[\"notas\"]<6]\n",
        "print(reprobados)\n",
        "\n",
        "reprobados.to_csv(\"/content/reprobados.csv\", sep= \";\")"
      ],
      "metadata": {
        "colab": {
          "base_uri": "https://localhost:8080/"
        },
        "id": "2NfwnAbF9_F5",
        "outputId": "2fd743f4-1ec3-4e34-8e14-ff8a5f7c15cd"
      },
      "execution_count": 23,
      "outputs": [
        {
          "output_type": "stream",
          "name": "stdout",
          "text": [
            "  alumnos  notas\n",
            "1    luis      4\n",
            "2  samuel      5\n",
            "6   cheyo      1\n"
          ]
        }
      ]
    },
    {
      "cell_type": "code",
      "source": [
        "count_reprobados = notas.loc[notas[\"notas\"]<6].agg({\"count\"})\n",
        "print(count_reprobados)\n",
        "\n",
        "count_reprobados.to_csv(\"/content/count_reprobados.csv\", sep= \";\")"
      ],
      "metadata": {
        "colab": {
          "base_uri": "https://localhost:8080/"
        },
        "id": "k3CMsl6OA5d-",
        "outputId": "5d2690c3-36ae-4444-e070-53d8a63576c2"
      },
      "execution_count": 25,
      "outputs": [
        {
          "output_type": "stream",
          "name": "stdout",
          "text": [
            "       alumnos  notas\n",
            "count        3      3\n"
          ]
        }
      ]
    },
    {
      "cell_type": "code",
      "source": [
        "tabla_sobresaliente = pd.crosstab(index=sobresalientes[\"notas\"], columns= \"fr\")\n",
        "plt.pie(tabla_sobresaliente, labels=tabla_sobresaliente.index)\n",
        "plt.xlabel(\"Cantidad de estudiantes con buena nota\")\n",
        "plt.show()"
      ],
      "metadata": {
        "colab": {
          "base_uri": "https://localhost:8080/",
          "height": 317
        },
        "id": "d0-XwB6OCQZT",
        "outputId": "0dfaea00-6833-4b65-b8d1-cb127d4cc773"
      },
      "execution_count": 30,
      "outputs": [
        {
          "output_type": "stream",
          "name": "stderr",
          "text": [
            "/usr/local/lib/python3.7/dist-packages/ipykernel_launcher.py:2: MatplotlibDeprecationWarning: Non-1D inputs to pie() are currently squeeze()d, but this behavior is deprecated since 3.1 and will be removed in 3.3; pass a 1D array instead.\n",
            "  \n"
          ]
        },
        {
          "output_type": "display_data",
          "data": {
            "text/plain": [
              "<Figure size 432x288 with 1 Axes>"
            ],
            "image/png": "[encoded data removed]"
          },
          "metadata": {}
        }
      ]
    },
    {
      "cell_type": "code",
      "source": [
        "tabla_sobresaliente = pd.crosstab(index=sobresalientes[\"notas\"], columns= \"fr\")\n",
        "plt.bar(sobresalientes[\"notas\"], sobresalientes[\"alumnos\"])\n",
        "plt.xlabel(\"Cantidad de estudiantes con buena nota\")\n",
        "plt.show()"
      ],
      "metadata": {
        "colab": {
          "base_uri": "https://localhost:8080/",
          "height": 279
        },
        "id": "Lw6P1WM3EHXx",
        "outputId": "054f22f9-4956-48c1-9a79-67dfeee00e79"
      },
      "execution_count": 32,
      "outputs": [
        {
          "output_type": "display_data",
          "data": {
            "text/plain": [
              "<Figure size 432x288 with 1 Axes>"
            ],
            "image/png": "[encoded data removed]"
          },
          "metadata": {
            "needs_background": "light"
          }
        }
      ]
    },
    {
      "cell_type": "markdown",
      "source": [],
      "metadata": {
        "id": "EoqdsFKyEbOX"
      }
    }
  ]
}