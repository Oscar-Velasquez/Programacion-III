{
  "cells": [
    {
      "cell_type": "markdown",
      "metadata": {
        "id": "view-in-github",
        "colab_type": "text"
      },
      "source": [
        "<a href=\"https://colab.research.google.com/github/Oscar-Velasquez/Programacion-III/blob/main/Parcial%20I.ipynb\" target=\"_parent\"><img src=\"https://colab.research.google.com/assets/colab-badge.svg\" alt=\"Open In Colab\"/></a>"
      ]
    },
    {
      "cell_type": "code",
      "source": [
        "# Parcial Programacion"
      ],
      "metadata": {
        "id": "gTQu8HcWx2Wu"
      },
      "execution_count": 4,
      "outputs": []
    },
    {
      "cell_type": "code",
      "source": [
        "#1  Desarrolle un algoritmo en Python que permita obtener los descuentos ISSS, AFP, I.S.R, vacaciones, aguinaldo etc. Uno para empresas y otro para personas. Favor investigue los datos correspondientes según ley. El usuario deberá ingresar el sueldo y que el sistema le diga el valor neto a pagarle y las deducciones. (30%) "
      ],
      "metadata": {
        "id": "GPTqqh3tvKgT"
      },
      "execution_count": 3,
      "outputs": []
    },
    {
      "cell_type": "code",
      "source": [
        "#EMPRESAS"
      ],
      "metadata": {
        "id": "qwQbjolca7js"
      },
      "execution_count": 5,
      "outputs": []
    },
    {
      "cell_type": "code",
      "source": [
        "empresa = float(input(\"Su sueldo es: \"))\n",
        "ISSS = empresa * 0.07\n",
        "AFP = empresa * 0.15\n",
        "VCN = empresa * 0.30\n",
        "AGN = empresa * 0.40\n",
        "descuento = (ISSS + AFP ) + (VCN + AGN)\n",
        "salario_nominal = empresa - (ISSS + AFP) + (VCN + AGN)\n",
        "\n",
        "\n",
        "print(\"Su descuento de AFP es: $\", AFP, \"Su descuento de ISS es: $\", ISSS, \"Su aumento por vacaciones es: $\", VCN, \"Su aumento por aguinaldo es: $\", AGN)\n",
        "\n",
        "if (salario_nominal <= 100000):\n",
        "  print(\"Su salario neto es: $\", salario_nominal)\n",
        "  print(\"Libre de impuestos I.S.R\")\n",
        "\n",
        "elif(salario_nominal <= 150000):\n",
        "  tramo2 = salario_nominal * 0.10\n",
        "  salario_renta = (salario_nominal - tramo2)\n",
        "  print(\"Su I.S.R a pagar es: $\", tramo2)\n",
        "  print(\"Su salario es: $\", salario_renta)\n",
        "\n",
        "elif(salario_nominal <= 200000):\n",
        "  tramo3 = salario_nominal * 0.20\n",
        "  salario_renta = (salario_nominal - tramo3)\n",
        "  print(\"Su I.S.R a pagar es: $\", tramo3)\n",
        "  print(\"Su salario es: $\", salario_renta)\n",
        "\n",
        "elif(salario_nominal >= 200000):\n",
        "  tramo4 = salario_nominal * 0.30\n",
        "  salario_renta = (salario_nominal - tramo4)\n",
        "  print(\"Su I.S.R a pagar es: $\", tramo4)\n",
        "  print(\"Su salario es: $\", salario_renta)\n",
        "\n",
        "else:\n",
        "  print(\"libre de impuestos I.S.R\")"
      ],
      "metadata": {
        "colab": {
          "base_uri": "https://localhost:8080/"
        },
        "id": "ByXMO07na7Rz",
        "outputId": "8bc56215-df5d-4b43-88a0-8d3a20fdea47"
      },
      "execution_count": 1,
      "outputs": [
        {
          "output_type": "stream",
          "name": "stdout",
          "text": [
            "Su sueldo es: 300000\n",
            "Su descuento de AFP es: $ 45000.0 Su descuento de ISS es: $ 21000.000000000004 Su aumento por vacaciones es: $ 90000.0 Su aumento por aguinaldo es: $ 120000.0\n",
            "Su I.S.R a pagar es: $ 133200.0\n",
            "Su salario es: $ 310800.0\n"
          ]
        }
      ]
    },
    {
      "cell_type": "code",
      "source": [
        "#PERSONAS"
      ],
      "metadata": {
        "id": "LEgDqCn0ZTdT"
      },
      "execution_count": 2,
      "outputs": []
    },
    {
      "cell_type": "code",
      "source": [
        "sueldo = float(input(\"Su salario es $\"))\n",
        "ISSS = sueldo * 0.03\n",
        "AFP = sueldo * 0.06\n",
        "VCN = sueldo * 0.25\n",
        "AGN = sueldo * 0.30\n",
        "descuento = (ISSS + AFP ) +  (VCN + AGN)\n",
        "salario_nominal = sueldo - (ISSS + AFP ) + (VCN + AGN)\n",
        "\n",
        "print(\"Su descuento de AFP es: $\", AFP, \"Su descuento de ISS es: $\", ISSS, \"Su aumento por vacaciones es: $\", VCN, \"Su aumento por aguinaldo es: $\", AGN)\n",
        "\n",
        "if (salario_nominal <= 520.00):\n",
        "  print(\"Su salario neto es: $\", salario_nominal)\n",
        "  print(\"Libre de impuestos I.S.R\")\n",
        "\n",
        "elif(salario_nominal <= 900.00):\n",
        "  tramo2 = salario_nominal * 0.10\n",
        "  salario_renta = (salario_nominal - tramo2)\n",
        "  print(\"Su I.S.R a pagar es: $\", tramo2)\n",
        "  print(\"Su salario es: $\", salario_renta)\n",
        "\n",
        "elif(salario_nominal <= 2000.00):\n",
        "  tramo3 = salario_nominal * 0.20\n",
        "  salario_renta = (salario_nominal - tramo3)\n",
        "  print(\"Su I.S.R a pagar es: $\", tramo3)\n",
        "  print(\"Su salario es: $\", salario_renta)\n",
        "\n",
        "elif(salario_nominal >= 2000.00):\n",
        "  tramo4 = salario_nominal * 0.30\n",
        "  salario_renta = (salario_nominal - tramo4)\n",
        "  print(\"Su I.S.R a pagar es: $\", tramo4)\n",
        "  print(\"Su salario es: $\", salario_renta)\n",
        "\n",
        "else:\n",
        "  print(\"libre de impuestos I.S.R\")"
      ],
      "metadata": {
        "colab": {
          "base_uri": "https://localhost:8080/"
        },
        "id": "KVeqD_fWRooH",
        "outputId": "318efad0-f951-47b3-88be-0447275d986f"
      },
      "execution_count": 6,
      "outputs": [
        {
          "output_type": "stream",
          "name": "stdout",
          "text": [
            "Su salario es $3000\n",
            "Su descuento de AFP es: $ 180.0 Su descuento de ISS es: $ 90.0 Su aumento por vacaciones es: $ 750.0 Su aumento por aguinaldo es: $ 900.0\n",
            "Su I.S.R a pagar es: $ 1314.0\n",
            "Su salario es: $ 3066.0\n"
          ]
        }
      ]
    },
    {
      "cell_type": "code",
      "source": [
        "#2 Desarrolle un algoritmo en Python que calcule el IMPUESTO A LAS ACTIVIDADES ECONOMICAS de acuerdo con la siguiente tabla. El monto de la actividad económica debe ser introducido por el usuario "
      ],
      "metadata": {
        "id": "KJ2PrBFVv6n_"
      },
      "execution_count": null,
      "outputs": []
    },
    {
      "cell_type": "code",
      "source": [
        "monto = float(input(\"Su monto es de: $\"))\n",
        "\n",
        "if  (monto <= 500.00): #1\n",
        "    nt = monto - 0.01\n",
        "    resp = nt / 1000 * 1.5\n",
        "    print(\"Su impuesto es de: $\", resp)\n",
        "\n",
        "\n",
        "elif(monto <= 1000.00): #2\n",
        "    nt = monto - 500.01\n",
        "    resp = nt / 1000 * 3 + 1.5\n",
        "    print(\"Su impuesto es de: $\", resp)\n",
        "\n",
        "\n",
        "elif(monto <= 2000.00): #3\n",
        "    nt = monto - 1000.01\n",
        "    resp = nt / 1000 * 3 + 3\n",
        "    print(\"Su impuesto es de: $\", resp)\n",
        "\n",
        "\n",
        "elif(monto <= 3000.00): #4\n",
        "    nt = monto - 2000.01 \n",
        "    resp = nt / 1000 * 3 + 6\n",
        "    print(\"Su impuesto es de: $\", resp)\n",
        "\n",
        "\n",
        "elif(monto <= 6000.00): #5\n",
        "    nt = monto - 3000.01\n",
        "    resp = nt / 1000 * 2 + 9\n",
        "    print(\"Su impuesto es de: $\", resp)\n",
        "\n",
        "\n",
        "elif(monto <=18000.00): #6\n",
        "    nt = monto - 8000.01\n",
        "    resp = nt / 1000 * 2 + 15\n",
        "    print(\"Su impuesto es de: $\", resp)\n",
        "\n",
        "\n",
        "elif(monto <= 30000.00): #7\n",
        "    nt = monto - 18000.01\n",
        "    resp = nt / 1000 * 2 + 39 \n",
        "    print(\"Su impuesto es de: $\", resp)\n",
        "\n",
        "\n",
        "elif(monto <= 60000.00): #8\n",
        "    nt = monto - 30000.01\n",
        "    resp = nt / 1000 * 1 + 63\n",
        "    print(\"Su impuesto es de: $\", resp)\n",
        "\n",
        "\n",
        "elif(monto <= 100000.00): #9\n",
        "    nt = monto - 60000.01\n",
        "    resp = nt / 1000 * 0.8 + 93\n",
        "    print(\"Su impuesto es de: $\", resp)\n",
        "\n",
        "\n",
        "elif(monto <= 200000.00): #10\n",
        "    nt = monto - 100000.01\n",
        "    resp = nt / 1000 * 0.7 + 125\n",
        "    print(\"Su impuesto es de: $\", resp)\n",
        "\n",
        "\n",
        "elif(monto <= 300000.00): #11\n",
        "    nt = monto - 200000.01\n",
        "    resp = nt / 1000 * 0.6 + 195\n",
        "    print(\"Su impuesto es de: $\", resp)\n",
        "\n",
        "\n",
        "elif(monto <= 400000.00): #12\n",
        "    nt = monto - 300000.01\n",
        "    resp = nt / 1000 * 0.45 + 255\n",
        "    print(\"Su impuesto es de: $\", resp)\n",
        "\n",
        "\n",
        "elif(monto <= 500000.00): # 13\n",
        "    nt = monto - 400000.01\n",
        "    resp = nt / 1000 * 0.4 + 300\n",
        "    print(\"Su impuesto es de: $\", resp)\n",
        "\n",
        "\n",
        "elif(monto <= 1000000.00): #14\n",
        "    nt = monto - 500000.01\n",
        "    resp = nt / 1000 * 0.30 + 340\n",
        "    print(\"Su impuesto es de: $\", resp)\n",
        "\n",
        "\n",
        "elif(monto <= 99999999): #15\n",
        "    nt = monto - 1000000.01\n",
        "    resp = nt / 1000 * 0.18 + 490\n",
        "    print(\"Su impuesto es de: $\", resp)\n"
      ],
      "metadata": {
        "id": "bRMQIogOHDet",
        "colab": {
          "base_uri": "https://localhost:8080/"
        },
        "outputId": "5b9da819-212a-43ef-8206-1db2b6b2448e"
      },
      "execution_count": 8,
      "outputs": [
        {
          "output_type": "stream",
          "name": "stdout",
          "text": [
            "Su monto es de: $20000\n",
            "Su impuesto es de: $ 42.99998\n"
          ]
        }
      ]
    },
    {
      "cell_type": "code",
      "source": [
        "#3 Desarrolle el conversor de Área (Superficie) haciendo uso de los diccionarios y las funciones de usuario en Python que contenga las siguientes opciones: (20%)"
      ],
      "metadata": {
        "id": "ZkMgVAKZ6xW5"
      },
      "execution_count": 3,
      "outputs": []
    },
    {
      "cell_type": "code",
      "source": [
        "# Conversor de Areas\n",
        "def pies2_metros2 ():\n",
        "  pies2 = int(input(\"Ingrese la cantidad de pies cuadrados a convertir \"))\n",
        "  metros2 = pies2 / 10.764\n",
        "  print (pies2,\"Pies Cuadrados equivalen a \",metros2,\"Metros Cuadrados.\")\n",
        "\n",
        "\n",
        "def metros2_hectareas ():\n",
        "  metros2 = int(input(\"Ingrese la cantidad de metros cuadrados a convertir \"))\n",
        "  hectareas = metros2 / 10000\n",
        "  print (metros2,\"Metros Cuadrados equivalen a \",hectareas,\"Hectareas.\")\n",
        "\n",
        "\n",
        "def metros2_pies2 ():\n",
        "  metros2 = int(input(\"Ingrese la cantidad de metros cuadrados a convertir \"))\n",
        "  pies2 = metros2 * 10.764\n",
        "  print (metros2,\"Metros Cuadrados equivalen a \",pies2,\"Pies Cuadrados.\")\n",
        "\n",
        "\n",
        "def yardas2_pies2 ():\n",
        "  yardas2 = int(input(\"Ingrese la cantidad de yardas cuadradas a convertir \"))\n",
        "  pies2 = yardas2 * 9\n",
        "  print (yardas2,\"Yardas Cuadradas equivalen a \",pies2,\"Pies Cuadrados.\")\n",
        "\n",
        "\n",
        "def hectareas_yardas2 ():\n",
        "  hectareas = int(input(\"Ingrese la cantidad de hectareas a convertir \"))\n",
        "  yardas2 = hectareas * 11960\n",
        "  print (hectareas,\"Hectareas equivalen a \",yardas2,\"Yardas Cuadradas.\")\n",
        "\n",
        "\n",
        "def manzanas_varas2 ():\n",
        "  manzanas = int(input(\"Ingrese la cantidad de manzanas a convertir \"))\n",
        "  varas2 = manzanas * 0.84\n",
        "  print (manzanas,\"Manzanas equivalen a \",varas2,\"Varas Cuadradas.\")\n",
        "\n",
        "\n",
        "def tarea_metro2 ():\n",
        "  tarea = int(input(\"Ingrese la cantidad de tareas a convertir \"))\n",
        "  metro2 = tarea * 628.86\n",
        "  print (tarea,\"Tareas equivalen a \",metro2,\"Metros Cuadrados.\")\n",
        "\n",
        "\n",
        "def metros2_varas2 ():\n",
        "  metros2 = int(input(\"Ingrese la cantidad de metros cuadrados a convertir \"))\n",
        "  varas2 = metros2 / 0.7\n",
        "  print (metros2,\"Metros Cuadrados equivalen a \",varas2,\"Varas Cuadradas.\")\n",
        "\n",
        "\n",
        "def tarea_hectarea ():\n",
        "  tarea = int(input(\"Ingrese la cantidad de tareas a convertir \"))\n",
        "  hectareas = tarea * 0.06288\n",
        "  print (tarea,\"Tareas equivalen a \",hectareas,\"Hectareas.\")\n",
        "\n",
        "\n",
        "def tarea_manzana ():\n",
        "  tarea = int(input(\"Ingrese la cantidad de tareas a convertir \"))\n",
        "  manzana= tarea * 0.06288\n",
        "  print (tarea,\"Tareas equivalen a \",manzana,\"Manzanas.\")\n",
        "\n",
        "\n",
        "opcion = int( input(\"\\n**MENU**\\n\\n\"\n",
        "                    \"1. Pies Cuadrados a Metros Cuadrados \\n\"\n",
        "                    \"2. Metros Cuadrados a Hectareas \\n\"\n",
        "                    \"3. Metros Cuadrados a Pies Cuadrados \\n\"\n",
        "                    \"4. Yardas Cuadradas a Pies Cuadrados \\n\"\n",
        "                    \"5. Hectareas a Yardas Cuadradas \\n\"\n",
        "                    \"6. Manzanas a Varas Cuadradas \\n\"\n",
        "                    \"7. Tareas a Metros Cuadrados \\n\"\n",
        "                    \"8. Metros Cuadrados a Varas Cuadradas \\n\"\n",
        "                    \"9. Tareas a Hectareas \\n\"\n",
        "                    \"10. Tareas a Manzanas \\n\"\n",
        "                    \"Ingrese al opcion que desea \\n\\n\"))\n",
        "\n",
        "Diccionario = {1:pies2_metros2,\n",
        "               2:metros2_hectareas,\n",
        "               3:metros2_pies2,\n",
        "               4:yardas2_pies2,\n",
        "               5:hectareas_yardas2,\n",
        "               6:manzanas_varas2,\n",
        "               7:tarea_metro2,\n",
        "               8:metros2_varas2,\n",
        "               9:tarea_hectarea,\n",
        "               10:tarea_manzana}\n",
        "\n",
        "try:\n",
        "  Diccionario[opcion]()\n",
        "except:\n",
        "  print(\"No ha elegido una opcion valida. \")\n"
      ],
      "metadata": {
        "colab": {
          "base_uri": "https://localhost:8080/"
        },
        "id": "0RQHnu586-AU",
        "outputId": "a460e108-d010-4aa3-ba12-8b568ed7584b"
      },
      "execution_count": 10,
      "outputs": [
        {
          "output_type": "stream",
          "name": "stdout",
          "text": [
            "\n",
            "**MENU**\n",
            "\n",
            "1. Pies Cuadrados a Metros Cuadrados \n",
            "2. Metros Cuadrados a Hectareas \n",
            "3. Metros Cuadrados a Pies Cuadrados \n",
            "4. Yardas Cuadradas a Pies Cuadrados \n",
            "5. Hectareas a Yardas Cuadradas \n",
            "6. Manzanas a Varas Cuadradas \n",
            "7. Tareas a Metros Cuadrados \n",
            "8. Metros Cuadrados a Varas Cuadradas \n",
            "9. Tareas a Hectareas \n",
            "10. Tareas a Manzanas \n",
            "Ingrese al opcion que desea \n",
            "\n",
            "1\n",
            "Ingrese la cantidad de pies cuadrados a convertir 300\n",
            "300 Pies Cuadrados equivalen a  27.87068004459309 Metros Cuadrados.\n"
          ]
        }
      ]
    },
    {
      "cell_type": "code",
      "source": [
        "#4Desarrolle un programa en Python que simule a un cajero automático. Haga uso de las estructuras de control. (20%) "
      ],
      "metadata": {
        "id": "EBh-RK76S_Y-"
      },
      "execution_count": 24,
      "outputs": []
    },
    {
      "cell_type": "code",
      "source": [
        "nombre = input(\"Cual es tu nombre: \")\n",
        "print(\"Bienvenido al sistema \",nombre)\n",
        "\n",
        "print(\"------------------------\")\n",
        "s = \"s\"\n",
        "while s == \"s\":\n",
        "  cantidad = float(input(\"ingrese cantidad a retirar: \"))\n",
        "  # Validamos si la cantidad ingresada es mayor a 0 que comience a mostrar los resultados\n",
        "  if cantidad>=0:\n",
        "    print(\"Sus \",cantidad,\" En los diferentes Billetes y Monedas americanos son \")\n",
        "\n",
        "    # Calculo de muestra de billetes de a $20 \n",
        "    if cantidad>=20:\n",
        "      Billete20 = int(cantidad // 20)\n",
        "      resto20 = cantidad % 20\n",
        "      print(Billete20,\" billetes de $20 dolares\") # Salida de resultado\n",
        "\n",
        "    # Calculo de muestra de billetes de a $10\n",
        "    if cantidad>=10:\n",
        "      Billete10 = int(resto20 // 10)\n",
        "      resto10 = resto20 % 10\n",
        "      print(Billete10,\" billetes de $10 dolares\") # Salida de resultado\n",
        "\n",
        "    # Calculo de muestra de billetes de a $5\n",
        "    if cantidad>=5:\n",
        "      Billete5 = int(resto10 // 5)\n",
        "      resto5 = resto10 % 5\n",
        "      print(Billete5,\" billetes de $5 dolares\") # Salida de resultado\n",
        "\n",
        "    # Calculo de muestra de billetes de a $1\n",
        "    if cantidad>=1:\n",
        "      Billete1 = int(resto5 // 1)\n",
        "      resto1 = resto5 % 1\n",
        "      print(Billete1,\" billetes de $1 dolar\") # Salida de resultado\n",
        "\n",
        "    # calculo de muestra de monedas de a $0.25\n",
        "    if cantidad>=0.25:\n",
        "      Moneda025 = int(resto1 // 0.25)\n",
        "      resto025 = resto1 % 0.25\n",
        "      print(Moneda025,\" monedas de $0.25 ctvs\") # Salida de resultado\n",
        "\n",
        "    # Calculo de muestra de monedas de a $0.10\n",
        "    if cantidad>=0.10:\n",
        "      Moneda010 = int(resto025 // 0.10)\n",
        "      resto010 = resto025 % 0.10\n",
        "      print(Moneda010,\" monedas de $0.10 ctvs\") # Salida de resultado\n",
        "\n",
        "    # Calculo de muestra de monedas de a $0.01\n",
        "    if cantidad>=0.01:\n",
        "      Moneda001 = int(resto010 // 0.01)\n",
        "      resto001 = resto010 % 0.01\n",
        "      print(Moneda001,\" monedas de $0.01 ctvs\") # Salida de resultado\n",
        "\n",
        "  # Si la cantidad es diferente a numeros que nos muestre lo siguiente\n",
        "  else:\n",
        "    print(\"Cantidad no existente!\")\n",
        "\n",
        "  print(\"------------------------\")\n",
        "  s = input(\"Ingrese la letra s si desea continuar, sino ingrese otra\")\n",
        "  print(\"------------------------\")"
      ],
      "metadata": {
        "id": "TLJV0YKSTjK6",
        "outputId": "b48e1443-9f64-4ea2-bad0-c8d0105f949f",
        "colab": {
          "base_uri": "https://localhost:8080/"
        }
      },
      "execution_count": null,
      "outputs": [
        {
          "output_type": "stream",
          "name": "stdout",
          "text": [
            "Cual es tu nombre: s\n",
            "Bienvenido al sistema  s\n",
            "------------------------\n",
            "ingrese cantidad a retirar: 200.11\n",
            "Sus  200.11  En los diferentes Billetes y Monedas americanos son \n",
            "10  billetes de $20 dolares\n",
            "0  billetes de $10 dolares\n",
            "0  billetes de $5 dolares\n",
            "0  billetes de $1 dolar\n",
            "0  monedas de $0.25 ctvs\n",
            "1  monedas de $0.10 ctvs\n",
            "1  monedas de $0.01 ctvs\n",
            "------------------------\n"
          ]
        }
      ]
    }
  ],
  "metadata": {
    "colab": {
      "collapsed_sections": [],
      "name": "Te damos la bienvenida a Colaboratory",
      "provenance": [],
      "include_colab_link": true
    },
    "kernelspec": {
      "display_name": "Python 3",
      "name": "python3"
    }
  },
  "nbformat": 4,
  "nbformat_minor": 0
}