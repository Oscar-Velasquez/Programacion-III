{
  "cells": [
    {
      "cell_type": "markdown",
      "metadata": {
        "id": "view-in-github",
        "colab_type": "text"
      },
      "source": [
        "<a href=\"https://colab.research.google.com/github/Oscar-Velasquez/Programacion-III/blob/main/Parcial%20I.ipynb\" target=\"_parent\"><img src=\"https://colab.research.google.com/assets/colab-badge.svg\" alt=\"Open In Colab\"/></a>"
      ]
    },
    {
      "cell_type": "code",
      "source": [
        "# Parcial Programacion"
      ],
      "metadata": {
        "id": "gTQu8HcWx2Wu"
      },
      "execution_count": 128,
      "outputs": []
    },
    {
      "cell_type": "code",
      "source": [
        "#1  Desarrolle un algoritmo en Python que permita obtener los descuentos ISSS, AFP, I.S.R, vacaciones, aguinaldo etc. Uno para empresas y otro para personas. Favor investigue los datos correspondientes según ley. El usuario deberá ingresar el sueldo y que el sistema le diga el valor neto a pagarle y las deducciones. (30%) "
      ],
      "metadata": {
        "id": "GPTqqh3tvKgT"
      },
      "execution_count": 129,
      "outputs": []
    },
    {
      "cell_type": "code",
      "source": [
        "#EMPRESAS"
      ],
      "metadata": {
        "id": "qwQbjolca7js"
      },
      "execution_count": 130,
      "outputs": []
    },
    {
      "cell_type": "code",
      "source": [
        "empresa = float(input(\"Su sueldo es: \"))\n",
        "ISSS = empresa * 0.07\n",
        "AFP = empresa * 0.015\n",
        "VCN = empresa * 0.030\n",
        "AGN = empresa * 0.050\n",
        "descuento = (ISSS + AFP ) + (VCN + AGN)\n",
        "salario_nominal = empresa - (ISSS + AFP) + (VCN + AGN)\n",
        "\n",
        "\n",
        "print(\"Su descuento de AFP es: $\", AFP, \"Su descuento de ISS es: $\", ISSS, \"Su aumento por vacaciones es: $\", VCN, \"Su aumento por aguinaldo es: $\", AGN)\n",
        "\n",
        "if (salario_nominal <= 100000):\n",
        "  print(\"Su salario neto es: $\", salario_nominal)\n",
        "  print(\"Libre de impuestos I.S.R\")\n",
        "\n",
        "elif(salario_nominal <= 150000):\n",
        "  tramo2 = salario_nominal * 0.10\n",
        "  salario_renta = (salario_nominal - tramo2)\n",
        "  print(\"Su I.S.R a pagar es: $\", tramo2)\n",
        "  print(\"Su salario es: $\", salario_renta)\n",
        "\n",
        "elif(salario_nominal <= 200000):\n",
        "  tramo3 = salario_nominal * 0.20\n",
        "  salario_renta = (salario_nominal - tramo3)\n",
        "  print(\"Su I.S.R a pagar es: $\", tramo3)\n",
        "  print(\"Su salario es: $\", salario_renta)\n",
        "\n",
        "elif(salario_nominal >= 200000):\n",
        "  tramo4 = salario_nominal * 0.30\n",
        "  salario_renta = (salario_nominal - tramo4)\n",
        "  print(\"Su I.S.R a pagar es: $\", tramo4)\n",
        "  print(\"Su salario es: $\", salario_renta)\n",
        "\n",
        "else:\n",
        "  print(\"libre de impuestos I.S.R\")"
      ],
      "metadata": {
        "colab": {
          "base_uri": "https://localhost:8080/"
        },
        "id": "ByXMO07na7Rz",
        "outputId": "1ad1032d-3f0e-4a32-e2ef-fbcbf6ef1cc4"
      },
      "execution_count": 131,
      "outputs": [
        {
          "output_type": "stream",
          "name": "stdout",
          "text": [
            "Su sueldo es: 175000\n",
            "Su descuento de AFP es: $ 2625.0 Su descuento de ISS es: $ 12250.000000000002 Su aumento por vacaciones es: $ 5250.0 Su aumento por aguinaldo es: $ 8750.0\n",
            "Su I.S.R a pagar es: $ 34825.0\n",
            "Su salario es: $ 139300.0\n"
          ]
        }
      ]
    },
    {
      "cell_type": "code",
      "source": [
        "#PERSONAS"
      ],
      "metadata": {
        "id": "LEgDqCn0ZTdT"
      },
      "execution_count": 127,
      "outputs": []
    },
    {
      "cell_type": "code",
      "source": [
        "sueldo = float(input(\"Su salario es $\"))\n",
        "ISSS = sueldo * 0.03\n",
        "AFP = sueldo * 0.0625\n",
        "VCN = sueldo * 0.025\n",
        "AGN = sueldo * 0.030\n",
        "descuento = (ISSS + AFP ) +  (VCN + AGN)\n",
        "salario_nominal = sueldo - (ISSS + AFP ) + (VCN + AGN)\n",
        "\n",
        "print(\"Su descuento de AFP es: $\", AFP, \"Su descuento de ISS es: $\", ISSS, \"Su aumento por vacaciones es: $\", VCN, \"Su aumento por aguinaldo es: $\", AGN)\n",
        "\n",
        "if (salario_nominal <= 520.00):\n",
        "  print(\"Su salario neto es: $\", salario_nominal)\n",
        "  print(\"Libre de impuestos I.S.R\")\n",
        "\n",
        "elif(salario_nominal <= 900.00):\n",
        "  tramo2 = salario_nominal * 0.10\n",
        "  salario_renta = (salario_nominal - tramo2)\n",
        "  print(\"Su I.S.R a pagar es: $\", tramo2)\n",
        "  print(\"Su salario es: $\", salario_renta)\n",
        "\n",
        "elif(salario_nominal <= 2000.00):\n",
        "  tramo3 = salario_nominal * 0.20\n",
        "  salario_renta = (salario_nominal - tramo3)\n",
        "  print(\"Su I.S.R a pagar es: $\", tramo3)\n",
        "  print(\"Su salario es: $\", salario_renta)\n",
        "\n",
        "elif(salario_nominal >= 2000.00):\n",
        "  tramo4 = salario_nominal * 0.30\n",
        "  salario_renta = (salario_nominal - tramo4)\n",
        "  print(\"Su I.S.R a pagar es: $\", tramo4)\n",
        "  print(\"Su salario es: $\", salario_renta)\n",
        "\n",
        "else:\n",
        "  print(\"libre de impuestos I.S.R\")"
      ],
      "metadata": {
        "colab": {
          "base_uri": "https://localhost:8080/"
        },
        "id": "KVeqD_fWRooH",
        "outputId": "7a3562fb-ca56-49e4-f0c2-369b505b8783"
      },
      "execution_count": 17,
      "outputs": [
        {
          "output_type": "stream",
          "name": "stdout",
          "text": [
            "Su salario es $1600\n",
            "Su descuento de AFP es: $ 100.0 Su descuento de ISS es: $ 48.0 Su aumento por vacaciones es: $ 40.0 Su aumento por aguinaldo es: $ 48.0\n",
            "Su I.S.R a pagar es: $ 308.0\n",
            "Su salario es: $ 1232.0\n"
          ]
        }
      ]
    },
    {
      "cell_type": "code",
      "source": [
        "#2 Desarrolle un algoritmo en Python que calcule el IMPUESTO A LAS ACTIVIDADES ECONOMICAS de acuerdo con la siguiente tabla. El monto de la actividad económica debe ser introducido por el usuario"
      ],
      "metadata": {
        "id": "KJ2PrBFVv6n_"
      },
      "execution_count": null,
      "outputs": []
    },
    {
      "cell_type": "code",
      "source": [
        "monto = float(input(\"Su monto es de: $\"))\n",
        "\n",
        "if  (monto <= 500.00): #1\n",
        "    nt = monto - 0.01\n",
        "    resp = nt / 1000 * 1.5\n",
        "    print(\"Su impuesto es de: $\", resp)\n",
        "\n",
        "\n",
        "elif(monto <= 1000.00): #2\n",
        "    nt = monto - 500.01\n",
        "    resp = nt / 1000 * 3 + 1.5\n",
        "    print(\"Su impuesto es de: $\", resp)\n",
        "\n",
        "\n",
        "elif(monto <= 2000.00): #3\n",
        "    nt = monto - 1000.01\n",
        "    resp = nt / 1000 * 3 + 3\n",
        "    print(\"Su impuesto es de: $\", resp)\n",
        "\n",
        "\n",
        "elif(monto <= 3000.00): #4\n",
        "    nt = monto - 2000.01 \n",
        "    resp = nt / 1000 * 3 + 6\n",
        "    print(\"Su impuesto es de: $\", resp)\n",
        "\n",
        "\n",
        "elif(monto <= 6000.00): #5\n",
        "    nt = monto - 3000.01\n",
        "    resp = nt / 1000 * 2 + 9\n",
        "    print(\"Su impuesto es de: $\", resp)\n",
        "\n",
        "\n",
        "elif(monto <=18000.00): #6\n",
        "    nt = monto - 8000.01\n",
        "    resp = nt / 1000 * 2 + 15\n",
        "    print(\"Su impuesto es de: $\", resp)\n",
        "\n",
        "\n",
        "elif(monto <= 30000.00): #7\n",
        "    nt = monto - 18000.01\n",
        "    resp = nt / 1000 * 2 + 39 \n",
        "    print(\"Su impuesto es de: $\", resp)\n",
        "\n",
        "\n",
        "elif(monto <= 60000.00): #8\n",
        "    nt = monto - 30000.01\n",
        "    resp = nt / 1000 * 1 + 63\n",
        "    print(\"Su impuesto es de: $\", resp)\n",
        "\n",
        "\n",
        "elif(monto <= 100000.00): #9\n",
        "    nt = monto - 60000.01\n",
        "    resp = nt / 1000 * 0.8 + 93\n",
        "    print(\"Su impuesto es de: $\", resp)\n",
        "\n",
        "\n",
        "elif(monto <= 200000.00): #10\n",
        "    nt = monto - 100000.01\n",
        "    resp = nt / 1000 * 0.7 + 125\n",
        "    print(\"Su impuesto es de: $\", resp)\n",
        "\n",
        "\n",
        "elif(monto <= 300000.00): #11\n",
        "    nt = monto - 200000.01\n",
        "    resp = nt / 1000 * 0.6 + 195\n",
        "    print(\"Su impuesto es de: $\", resp)\n",
        "\n",
        "\n",
        "elif(monto <= 400000.00): #12\n",
        "    nt = monto - 300000.01\n",
        "    resp = nt / 1000 * 0.45 + 255\n",
        "    print(\"Su impuesto es de: $\", resp)\n",
        "\n",
        "\n",
        "elif(monto <= 500000.00): # 13\n",
        "    nt = monto - 400000.01\n",
        "    resp = nt / 1000 * 0.4 + 300\n",
        "    print(\"Su impuesto es de: $\", resp)\n",
        "\n",
        "\n",
        "elif(monto <= 1000000.00): #14\n",
        "    nt = monto - 500000.01\n",
        "    resp = nt / 1000 * 0.30 + 340\n",
        "    print(\"Su impuesto es de: $\", resp)\n",
        "\n",
        "\n",
        "elif(monto <= 99999999): #15\n",
        "    nt = monto - 1000000.01\n",
        "    resp = nt / 1000 * 0.18 + 490\n",
        "    print(\"Su impuesto es de: $\", resp)\n"
      ],
      "metadata": {
        "id": "bRMQIogOHDet",
        "colab": {
          "base_uri": "https://localhost:8080/"
        },
        "outputId": "295b05f6-2dad-4c11-b9c7-4b5402b98cb4"
      },
      "execution_count": 125,
      "outputs": [
        {
          "output_type": "stream",
          "name": "stdout",
          "text": [
            "Su monto es de: $50000\n",
            "Su impuesto es de: $ 82.99999\n"
          ]
        }
      ]
    },
    {
      "cell_type": "code",
      "source": [
        "#3 Desarrolle el conversor de Área (Superficie) haciendo uso de los diccionarios y las funciones de usuario en Python que contenga las siguientes opciones: (20%)"
      ],
      "metadata": {
        "id": "ZkMgVAKZ6xW5"
      },
      "execution_count": 126,
      "outputs": []
    },
    {
      "cell_type": "code",
      "source": [],
      "metadata": {
        "id": "0RQHnu586-AU"
      },
      "execution_count": null,
      "outputs": []
    }
  ],
  "metadata": {
    "colab": {
      "collapsed_sections": [],
      "name": "Te damos la bienvenida a Colaboratory",
      "provenance": [],
      "include_colab_link": true
    },
    "kernelspec": {
      "display_name": "Python 3",
      "name": "python3"
    }
  },
  "nbformat": 4,
  "nbformat_minor": 0
}